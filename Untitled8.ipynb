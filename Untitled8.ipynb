{
  "nbformat": 4,
  "nbformat_minor": 0,
  "metadata": {
    "colab": {
      "provenance": [],
      "authorship_tag": "ABX9TyMv753sHvlZSsZ+Y4uGzlew",
      "include_colab_link": true
    },
    "kernelspec": {
      "name": "python3",
      "display_name": "Python 3"
    },
    "language_info": {
      "name": "python"
    }
  },
  "cells": [
    {
      "cell_type": "markdown",
      "metadata": {
        "id": "view-in-github",
        "colab_type": "text"
      },
      "source": [
        "<a href=\"https://colab.research.google.com/github/Twinkle-gawri/Mini-Project---4/blob/main/Untitled8.ipynb\" target=\"_parent\"><img src=\"https://colab.research.google.com/assets/colab-badge.svg\" alt=\"Open In Colab\"/></a>"
      ]
    },
    {
      "cell_type": "code",
      "execution_count": 6,
      "metadata": {
        "id": "8AxDKsAelJC0"
      },
      "outputs": [],
      "source": [
        "with open('input.txt', 'r') as file:\n",
        "    lines = file.readlines()\n",
        "\n",
        "marks_by_roll = {}\n",
        "for line in lines:\n",
        "    roll_no, marks = line.strip().split(',')\n",
        "    marks = int(marks)\n",
        "    if roll_no in marks_by_roll:\n",
        "        marks_by_roll[roll_no] += marks\n",
        "    else:\n",
        "        marks_by_roll[roll_no] = marks\n",
        "\n",
        "with open('output.txt', 'w') as file:\n",
        "    for roll_no, total_marks in marks_by_roll.items():\n",
        "        file.write(f\"Roll No: {roll_no}, Total Marks: {total_marks}\\n\")"
      ]
    }
  ]
}